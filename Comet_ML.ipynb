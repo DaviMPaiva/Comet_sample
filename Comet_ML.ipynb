{
 "cells": [
  {
   "cell_type": "markdown",
   "metadata": {},
   "source": [
    "Importe o comet_ml ante de importar o pytorch"
   ]
  },
  {
   "cell_type": "code",
   "execution_count": 1,
   "metadata": {},
   "outputs": [],
   "source": [
    "from comet_ml import Experiment"
   ]
  },
  {
   "cell_type": "code",
   "execution_count": 2,
   "metadata": {},
   "outputs": [],
   "source": [
    "import torch"
   ]
  },
  {
   "cell_type": "markdown",
   "metadata": {},
   "source": [
    "Caso esteja usando cuda"
   ]
  },
  {
   "cell_type": "code",
   "execution_count": 3,
   "metadata": {},
   "outputs": [
    {
     "data": {
      "text/plain": [
       "device(type='cpu')"
      ]
     },
     "execution_count": 3,
     "metadata": {},
     "output_type": "execute_result"
    }
   ],
   "source": [
    "device = torch.device('cuda' if torch.cuda.is_available() else 'cpu')\n",
    "device"
   ]
  },
  {
   "cell_type": "markdown",
   "metadata": {},
   "source": [
    " Quando terminar de rodar um link vai ficar disponivel onde os dados estão sendo salvos."
   ]
  },
  {
   "cell_type": "markdown",
   "metadata": {},
   "source": [
    "Controle de algumas variaveis. Isso é muito util para comparar modelos! \n",
    "Tente rodar uma vez e depois mude o learning_rate e rode denovo, dois experimentos serão criado"
   ]
  },
  {
   "cell_type": "code",
   "execution_count": 4,
   "metadata": {},
   "outputs": [
    {
     "name": "stderr",
     "output_type": "stream",
     "text": [
      "COMET ERROR: The given API key your_key is invalid, please check it against the dashboard. Your experiment would not be logged \n",
      "For more details, please refer to: https://www.comet.ml/docs/python-sdk/warnings-errors/\n"
     ]
    }
   ],
   "source": [
    "experiment = Experiment(\n",
    "    api_key=\"your_key\",\n",
    "    project_name=\"\",\n",
    "    workspace=\"\",\n",
    ")\n",
    "hyper_params = {\n",
    "    \"learning_rate\": 0.0001,\n",
    "    \"epochs\": 5,\n",
    "    \"batch_size\": 100,\n",
    "}\n",
    "experiment.log_parameters(hyper_params)"
   ]
  },
  {
   "cell_type": "markdown",
   "metadata": {},
   "source": [
    "Baixando os dados do MNIST e criando loaders de train e test, repare que usamos o hyper_params['batch_size'] aqui. "
   ]
  },
  {
   "cell_type": "code",
   "execution_count": 5,
   "metadata": {},
   "outputs": [
    {
     "data": {
      "text/plain": [
       "{'train': <torch.utils.data.dataloader.DataLoader at 0x212041444f0>,\n",
       " 'test': <torch.utils.data.dataloader.DataLoader at 0x212041446d0>}"
      ]
     },
     "execution_count": 5,
     "metadata": {},
     "output_type": "execute_result"
    }
   ],
   "source": [
    "from torchvision import datasets\n",
    "from torchvision.transforms import ToTensor\n",
    "from torch.utils.data import DataLoader\n",
    "train_data = datasets.MNIST(\n",
    "    root = 'data',\n",
    "    train = True,                         \n",
    "    transform = ToTensor(), \n",
    "    download = True,            \n",
    ")\n",
    "test_data = datasets.MNIST(\n",
    "    root = 'data', \n",
    "    train = False, \n",
    "    transform = ToTensor()\n",
    ")\n",
    "\n",
    "loaders = {\n",
    "    'train' : torch.utils.data.DataLoader(train_data, \n",
    "                                          batch_size=hyper_params['batch_size'], \n",
    "                                          shuffle=True, \n",
    "                                          num_workers=1),\n",
    "    \n",
    "    'test'  : torch.utils.data.DataLoader(test_data, \n",
    "                                          batch_size=hyper_params['batch_size'], \n",
    "                                          shuffle=True, \n",
    "                                          num_workers=1),\n",
    "}\n",
    "loaders"
   ]
  },
  {
   "cell_type": "code",
   "execution_count": 6,
   "metadata": {},
   "outputs": [],
   "source": [
    "import torch.nn as nn\n",
    "class CNN(nn.Module):\n",
    "    def __init__(self):\n",
    "        super(CNN, self).__init__()\n",
    "        self.conv1 = nn.Sequential(         \n",
    "            nn.Conv2d(\n",
    "                in_channels=1,              \n",
    "                out_channels=16,            \n",
    "                kernel_size=5,              \n",
    "                stride=1,                   \n",
    "                padding=2,                  \n",
    "            ),                              \n",
    "            nn.ReLU(),                      \n",
    "            nn.MaxPool2d(kernel_size=2),    \n",
    "        )\n",
    "        self.conv2 = nn.Sequential(         \n",
    "            nn.Conv2d(16, 32, 5, 1, 2),     \n",
    "            nn.ReLU(),                      \n",
    "            nn.MaxPool2d(2),                \n",
    "        )\n",
    "        # fully connected layer, output 10 classes\n",
    "        self.out = nn.Linear(32 * 7 * 7, 10)\n",
    "    def forward(self, x):\n",
    "        x = self.conv1(x)\n",
    "        x = self.conv2(x)\n",
    "        # flatten the output of conv2 to (batch_size, 32 * 7 * 7)\n",
    "        x = x.view(x.size(0), -1)       \n",
    "        output = self.out(x)\n",
    "        return output, x    # return x for visualization\n",
    "cnn = CNN()"
   ]
  },
  {
   "cell_type": "markdown",
   "metadata": {},
   "source": [
    "função loss e otimizador "
   ]
  },
  {
   "cell_type": "code",
   "execution_count": 7,
   "metadata": {},
   "outputs": [],
   "source": [
    "from torch import optim\n",
    "loss_func = nn.CrossEntropyLoss()   \n",
    "optimizer = optim.Adam(cnn.parameters(), lr = hyper_params['learning_rate'])   "
   ]
  },
  {
   "cell_type": "markdown",
   "metadata": {},
   "source": [
    "Nesse treino log_metric vai criar um grafico da metrica pelo o que passarmos no terceiro parametro, no caso: run"
   ]
  },
  {
   "cell_type": "code",
   "execution_count": 8,
   "metadata": {},
   "outputs": [
    {
     "name": "stdout",
     "output_type": "stream",
     "text": [
      "Epoch [1/5], Step [100/600], Loss: 1.8551\n",
      "Epoch [1/5], Step [200/600], Loss: 0.8252\n",
      "Epoch [1/5], Step [300/600], Loss: 0.5959\n",
      "Epoch [1/5], Step [400/600], Loss: 0.2785\n",
      "Epoch [1/5], Step [500/600], Loss: 0.4235\n",
      "Epoch [1/5], Step [600/600], Loss: 0.4099\n",
      "Epoch [2/5], Step [100/600], Loss: 0.2951\n",
      "Epoch [2/5], Step [200/600], Loss: 0.2068\n",
      "Epoch [2/5], Step [300/600], Loss: 0.1953\n",
      "Epoch [2/5], Step [400/600], Loss: 0.2425\n",
      "Epoch [2/5], Step [500/600], Loss: 0.4083\n",
      "Epoch [2/5], Step [600/600], Loss: 0.3104\n",
      "Epoch [3/5], Step [100/600], Loss: 0.2818\n",
      "Epoch [3/5], Step [200/600], Loss: 0.1602\n",
      "Epoch [3/5], Step [300/600], Loss: 0.1371\n",
      "Epoch [3/5], Step [400/600], Loss: 0.1850\n",
      "Epoch [3/5], Step [500/600], Loss: 0.2228\n",
      "Epoch [3/5], Step [600/600], Loss: 0.1161\n",
      "Epoch [4/5], Step [100/600], Loss: 0.1661\n",
      "Epoch [4/5], Step [200/600], Loss: 0.1672\n",
      "Epoch [4/5], Step [300/600], Loss: 0.1250\n",
      "Epoch [4/5], Step [400/600], Loss: 0.2298\n",
      "Epoch [4/5], Step [500/600], Loss: 0.1448\n",
      "Epoch [4/5], Step [600/600], Loss: 0.1510\n",
      "Epoch [5/5], Step [100/600], Loss: 0.1078\n",
      "Epoch [5/5], Step [200/600], Loss: 0.1719\n",
      "Epoch [5/5], Step [300/600], Loss: 0.1238\n",
      "Epoch [5/5], Step [400/600], Loss: 0.1238\n",
      "Epoch [5/5], Step [500/600], Loss: 0.0940\n",
      "Epoch [5/5], Step [600/600], Loss: 0.0429\n"
     ]
    }
   ],
   "source": [
    "from torch.autograd import Variable\n",
    "def train(num_epochs, cnn, loaders):\n",
    "    \n",
    "    cnn.train()\n",
    "        \n",
    "    # Train the model\n",
    "    total_step = len(loaders['train'])\n",
    "    run = 0\n",
    "    for epoch in range(num_epochs):\n",
    "        for i, (images, labels) in enumerate(loaders['train']):\n",
    "            run = run + 1\n",
    "            # gives batch data, normalize x when iterate train_loader\n",
    "            b_x = Variable(images)   # batch x\n",
    "            b_y = Variable(labels)   # batch y\n",
    "            output = cnn(b_x)[0]               \n",
    "            loss = loss_func(output, b_y)\n",
    "            \n",
    "            # clear gradients for this training step   \n",
    "            optimizer.zero_grad()           \n",
    "            \n",
    "            # backpropagation, compute gradients \n",
    "            loss.backward()    \n",
    "            # apply gradients             \n",
    "            optimizer.step()                \n",
    "            experiment.log_metric(\"loss\", loss.item(), run)\n",
    "            if (i+1) % 100 == 0:\n",
    "                print ('Epoch [{}/{}], Step [{}/{}], Loss: {:.4f}' .format(epoch + 1, num_epochs, i + 1, total_step, loss.item()))\n",
    "        \n",
    "        pass\n",
    "    \n",
    "    \n",
    "    pass\n",
    "train(hyper_params['epochs'], cnn, loaders)"
   ]
  },
  {
   "cell_type": "markdown",
   "metadata": {},
   "source": [
    "Fazemos, por ultimo, outra metrica, mas dessa vez para a acurácia "
   ]
  },
  {
   "cell_type": "code",
   "execution_count": 9,
   "metadata": {},
   "outputs": [
    {
     "name": "stdout",
     "output_type": "stream",
     "text": [
      "Test Accuracy of the model on the 10000 test images: 0.95\n"
     ]
    }
   ],
   "source": [
    "def test():\n",
    "    # Test the model\n",
    "    cnn.eval()\n",
    "    with torch.no_grad():\n",
    "        correct = 0\n",
    "        total = 0\n",
    "        for num,(images, labels) in enumerate(loaders['test']):\n",
    "            test_output, last_layer = cnn(images)\n",
    "            pred_y = torch.max(test_output, 1)[1].data.squeeze()\n",
    "            accuracy = (pred_y == labels).sum().item() / float(labels.size(0))\n",
    "            experiment.log_metric(\"accuracy\", accuracy, num)\n",
    "        print('Test Accuracy of the model on the 10000 test images: %.2f' % accuracy)\n",
    "    \n",
    "test()"
   ]
  }
 ],
 "metadata": {
  "kernelspec": {
   "display_name": "Python 3",
   "language": "python",
   "name": "python3"
  },
  "language_info": {
   "codemirror_mode": {
    "name": "ipython",
    "version": 3
   },
   "file_extension": ".py",
   "mimetype": "text/x-python",
   "name": "python",
   "nbconvert_exporter": "python",
   "pygments_lexer": "ipython3",
   "version": "3.8.5"
  }
 },
 "nbformat": 4,
 "nbformat_minor": 5
}
